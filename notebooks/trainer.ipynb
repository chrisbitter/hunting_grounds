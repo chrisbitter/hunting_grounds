{
  "nbformat": 4,
  "nbformat_minor": 0,
  "metadata": {
    "colab": {
      "name": "hg_trainer.ipynb",
      "version": "0.3.2",
      "provenance": []
    },
    "kernelspec": {
      "name": "python3",
      "display_name": "Python 3"
    }
  },
  "cells": [
    {
      "cell_type": "code",
      "metadata": {
        "id": "6TtuxN94kwlj",
        "colab_type": "code",
        "outputId": "e755c9b6-9b01-41e4-b5c7-46ae1aa6e4b0",
        "colab": {
          "base_uri": "https://localhost:8080/",
          "height": 146
        }
      },
      "source": [
        "!git clone -b master https://github.com/sloumotion/hunting_grounds.git"
      ],
      "execution_count": 1,
      "outputs": [
        {
          "output_type": "stream",
          "text": [
            "Cloning into 'hunting_grounds'...\n",
            "remote: Enumerating objects: 130, done.\u001b[K\n",
            "remote: Counting objects:   0% (1/130)\u001b[K\rremote: Counting objects:   1% (2/130)\u001b[K\rremote: Counting objects:   2% (3/130)\u001b[K\rremote: Counting objects:   3% (4/130)\u001b[K\rremote: Counting objects:   4% (6/130)\u001b[K\rremote: Counting objects:   5% (7/130)\u001b[K\rremote: Counting objects:   6% (8/130)\u001b[K\rremote: Counting objects:   7% (10/130)\u001b[K\rremote: Counting objects:   8% (11/130)\u001b[K\rremote: Counting objects:   9% (12/130)\u001b[K\rremote: Counting objects:  10% (13/130)\u001b[K\rremote: Counting objects:  11% (15/130)\u001b[K\rremote: Counting objects:  12% (16/130)\u001b[K\rremote: Counting objects:  13% (17/130)\u001b[K\rremote: Counting objects:  14% (19/130)\u001b[K\rremote: Counting objects:  15% (20/130)\u001b[K\rremote: Counting objects:  16% (21/130)\u001b[K\rremote: Counting objects:  17% (23/130)\u001b[K\rremote: Counting objects:  18% (24/130)\u001b[K\rremote: Counting objects:  19% (25/130)\u001b[K\rremote: Counting objects:  20% (26/130)\u001b[K\rremote: Counting objects:  21% (28/130)\u001b[K\rremote: Counting objects:  22% (29/130)\u001b[K\rremote: Counting objects:  23% (30/130)\u001b[K\rremote: Counting objects:  24% (32/130)\u001b[K\rremote: Counting objects:  25% (33/130)\u001b[K\rremote: Counting objects:  26% (34/130)\u001b[K\rremote: Counting objects:  27% (36/130)\u001b[K\rremote: Counting objects:  28% (37/130)\u001b[K\rremote: Counting objects:  29% (38/130)\u001b[K\rremote: Counting objects:  30% (39/130)\u001b[K\rremote: Counting objects:  31% (41/130)\u001b[K\rremote: Counting objects:  32% (42/130)\u001b[K\rremote: Counting objects:  33% (43/130)\u001b[K\rremote: Counting objects:  34% (45/130)\u001b[K\rremote: Counting objects:  35% (46/130)\u001b[K\rremote: Counting objects:  36% (47/130)\u001b[K\rremote: Counting objects:  37% (49/130)\u001b[K\rremote: Counting objects:  38% (50/130)\u001b[K\rremote: Counting objects:  39% (51/130)\u001b[K\rremote: Counting objects:  40% (52/130)\u001b[K\rremote: Counting objects:  41% (54/130)\u001b[K\rremote: Counting objects:  42% (55/130)\u001b[K\rremote: Counting objects:  43% (56/130)\u001b[K\rremote: Counting objects:  44% (58/130)\u001b[K\rremote: Counting objects:  45% (59/130)\u001b[K\rremote: Counting objects:  46% (60/130)\u001b[K\rremote: Counting objects:  47% (62/130)\u001b[K\rremote: Counting objects:  48% (63/130)\u001b[K\rremote: Counting objects:  49% (64/130)\u001b[K\rremote: Counting objects:  50% (65/130)\u001b[K\rremote: Counting objects:  51% (67/130)\u001b[K\rremote: Counting objects:  52% (68/130)\u001b[K\rremote: Counting objects:  53% (69/130)\u001b[K\rremote: Counting objects:  54% (71/130)\u001b[K\rremote: Counting objects:  55% (72/130)\u001b[K\rremote: Counting objects:  56% (73/130)\u001b[K\rremote: Counting objects:  57% (75/130)\u001b[K\rremote: Counting objects:  58% (76/130)\u001b[K\rremote: Counting objects:  59% (77/130)\u001b[K\rremote: Counting objects:  60% (78/130)\u001b[K\rremote: Counting objects:  61% (80/130)\u001b[K\rremote: Counting objects:  62% (81/130)\u001b[K\rremote: Counting objects:  63% (82/130)\u001b[K\rremote: Counting objects:  64% (84/130)\u001b[K\rremote: Counting objects:  65% (85/130)\u001b[K\rremote: Counting objects:  66% (86/130)\u001b[K\rremote: Counting objects:  67% (88/130)\u001b[K\rremote: Counting objects:  68% (89/130)\u001b[K\rremote: Counting objects:  69% (90/130)\u001b[K\rremote: Counting objects:  70% (91/130)\u001b[K\rremote: Counting objects:  71% (93/130)\u001b[K\rremote: Counting objects:  72% (94/130)\u001b[K\rremote: Counting objects:  73% (95/130)\u001b[K\rremote: Counting objects:  74% (97/130)\u001b[K\rremote: Counting objects:  75% (98/130)\u001b[K\rremote: Counting objects:  76% (99/130)\u001b[K\rremote: Counting objects:  77% (101/130)\u001b[K\rremote: Counting objects:  78% (102/130)\u001b[K\rremote: Counting objects:  79% (103/130)\u001b[K\rremote: Counting objects:  80% (104/130)\u001b[K\rremote: Counting objects:  81% (106/130)\u001b[K\rremote: Counting objects:  82% (107/130)\u001b[K\rremote: Counting objects:  83% (108/130)\u001b[K\rremote: Counting objects:  84% (110/130)\u001b[K\rremote: Counting objects:  85% (111/130)\u001b[K\rremote: Counting objects:  86% (112/130)\u001b[K\rremote: Counting objects:  87% (114/130)\u001b[K\rremote: Counting objects:  88% (115/130)\u001b[K\rremote: Counting objects:  89% (116/130)\u001b[K\rremote: Counting objects:  90% (117/130)\u001b[K\rremote: Counting objects:  91% (119/130)\u001b[K\rremote: Counting objects:  92% (120/130)\u001b[K\rremote: Counting objects:  93% (121/130)\u001b[K\rremote: Counting objects:  94% (123/130)\u001b[K\rremote: Counting objects:  95% (124/130)\u001b[K\rremote: Counting objects:  96% (125/130)\u001b[K\rremote: Counting objects:  97% (127/130)\u001b[K\rremote: Counting objects:  98% (128/130)\u001b[K\rremote: Counting objects:  99% (129/130)\u001b[K\rremote: Counting objects: 100% (130/130)\u001b[K\rremote: Counting objects: 100% (130/130), done.\u001b[K\n",
            "remote: Compressing objects:   1% (1/71)\u001b[K\rremote: Compressing objects:   2% (2/71)\u001b[K\rremote: Compressing objects:   4% (3/71)\u001b[K\rremote: Compressing objects:   5% (4/71)\u001b[K\rremote: Compressing objects:   7% (5/71)\u001b[K\rremote: Compressing objects:   8% (6/71)\u001b[K\rremote: Compressing objects:   9% (7/71)\u001b[K\rremote: Compressing objects:  11% (8/71)\u001b[K\rremote: Compressing objects:  12% (9/71)\u001b[K\rremote: Compressing objects:  14% (10/71)\u001b[K\rremote: Compressing objects:  15% (11/71)\u001b[K\rremote: Compressing objects:  16% (12/71)\u001b[K\rremote: Compressing objects:  18% (13/71)\u001b[K\rremote: Compressing objects:  19% (14/71)\u001b[K\rremote: Compressing objects:  21% (15/71)\u001b[K\rremote: Compressing objects:  22% (16/71)\u001b[K\rremote: Compressing objects:  23% (17/71)\u001b[K\rremote: Compressing objects:  25% (18/71)\u001b[K\rremote: Compressing objects:  26% (19/71)\u001b[K\rremote: Compressing objects:  28% (20/71)\u001b[K\rremote: Compressing objects:  29% (21/71)\u001b[K\rremote: Compressing objects:  30% (22/71)\u001b[K\rremote: Compressing objects:  32% (23/71)\u001b[K\rremote: Compressing objects:  33% (24/71)\u001b[K\rremote: Compressing objects:  35% (25/71)\u001b[K\rremote: Compressing objects:  36% (26/71)\u001b[K\rremote: Compressing objects:  38% (27/71)\u001b[K\rremote: Compressing objects:  39% (28/71)\u001b[K\rremote: Compressing objects:  40% (29/71)\u001b[K\rremote: Compressing objects:  42% (30/71)\u001b[K\rremote: Compressing objects:  43% (31/71)\u001b[K\rremote: Compressing objects:  45% (32/71)\u001b[K\rremote: Compressing objects:  46% (33/71)\u001b[K\rremote: Compressing objects:  47% (34/71)\u001b[K\rremote: Compressing objects:  49% (35/71)\u001b[K\rremote: Compressing objects:  50% (36/71)\u001b[K\rremote: Compressing objects:  52% (37/71)\u001b[K\rremote: Compressing objects:  53% (38/71)\u001b[K\rremote: Compressing objects:  54% (39/71)\u001b[K\rremote: Compressing objects:  56% (40/71)\u001b[K\rremote: Compressing objects:  57% (41/71)\u001b[K\rremote: Compressing objects:  59% (42/71)\u001b[K\rremote: Compressing objects:  60% (43/71)\u001b[K\rremote: Compressing objects:  61% (44/71)\u001b[K\rremote: Compressing objects:  63% (45/71)\u001b[K\rremote: Compressing objects:  64% (46/71)\u001b[K\rremote: Compressing objects:  66% (47/71)\u001b[K\rremote: Compressing objects:  67% (48/71)\u001b[K\rremote: Compressing objects:  69% (49/71)\u001b[K\rremote: Compressing objects:  70% (50/71)\u001b[K\rremote: Compressing objects:  71% (51/71)\u001b[K\rremote: Compressing objects:  73% (52/71)\u001b[K\rremote: Compressing objects:  74% (53/71)\u001b[K\rremote: Compressing objects:  76% (54/71)\u001b[K\rremote: Compressing objects:  77% (55/71)\u001b[K\rremote: Compressing objects:  78% (56/71)\u001b[K\rremote: Compressing objects:  80% (57/71)\u001b[K\rremote: Compressing objects:  81% (58/71)\u001b[K\rremote: Compressing objects:  83% (59/71)\u001b[K\rremote: Compressing objects:  84% (60/71)\u001b[K\rremote: Compressing objects:  85% (61/71)\u001b[K\rremote: Compressing objects:  87% (62/71)\u001b[K\rremote: Compressing objects:  88% (63/71)\u001b[K\rremote: Compressing objects:  90% (64/71)\u001b[K\rremote: Compressing objects:  91% (65/71)\u001b[K\rremote: Compressing objects:  92% (66/71)\u001b[K\rremote: Compressing objects:  94% (67/71)\u001b[K\rremote: Compressing objects:  95% (68/71)\u001b[K\rremote: Compressing objects:  97% (69/71)\u001b[K\rremote: Compressing objects:  98% (70/71)\u001b[K\rremote: Compressing objects: 100% (71/71)\u001b[K\rremote: Compressing objects: 100% (71/71), done.\u001b[K\n",
            "Receiving objects:   0% (1/130)   \rReceiving objects:   1% (2/130)   \rReceiving objects:   2% (3/130)   \rReceiving objects:   3% (4/130)   \rReceiving objects:   4% (6/130)   \rReceiving objects:   5% (7/130)   \rReceiving objects:   6% (8/130)   \rReceiving objects:   7% (10/130)   \rReceiving objects:   8% (11/130)   \rReceiving objects:   9% (12/130)   \rReceiving objects:  10% (13/130)   \rReceiving objects:  11% (15/130)   \rReceiving objects:  12% (16/130)   \rReceiving objects:  13% (17/130)   \rReceiving objects:  14% (19/130)   \rReceiving objects:  15% (20/130)   \rReceiving objects:  16% (21/130)   \rReceiving objects:  17% (23/130)   \rReceiving objects:  18% (24/130)   \rReceiving objects:  19% (25/130)   \rReceiving objects:  20% (26/130)   \rReceiving objects:  21% (28/130)   \rReceiving objects:  22% (29/130)   \rReceiving objects:  23% (30/130)   \rReceiving objects:  24% (32/130)   \rReceiving objects:  25% (33/130)   \rReceiving objects:  26% (34/130)   \rReceiving objects:  27% (36/130)   \rReceiving objects:  28% (37/130)   \rReceiving objects:  29% (38/130)   \rReceiving objects:  30% (39/130)   \rReceiving objects:  31% (41/130)   \rReceiving objects:  32% (42/130)   \rReceiving objects:  33% (43/130)   \rReceiving objects:  34% (45/130)   \rReceiving objects:  35% (46/130)   \rReceiving objects:  36% (47/130)   \rReceiving objects:  37% (49/130)   \rReceiving objects:  38% (50/130)   \rReceiving objects:  39% (51/130)   \rReceiving objects:  40% (52/130)   \rReceiving objects:  41% (54/130)   \rReceiving objects:  42% (55/130)   \rReceiving objects:  43% (56/130)   \rReceiving objects:  44% (58/130)   \rReceiving objects:  45% (59/130)   \rReceiving objects:  46% (60/130)   \rReceiving objects:  47% (62/130)   \rReceiving objects:  48% (63/130)   \rReceiving objects:  49% (64/130)   \rremote: Total 130 (delta 45), reused 116 (delta 37), pack-reused 0\u001b[K\n",
            "Receiving objects:  50% (65/130)   \rReceiving objects:  51% (67/130)   \rReceiving objects:  52% (68/130)   \rReceiving objects:  53% (69/130)   \rReceiving objects:  54% (71/130)   \rReceiving objects:  55% (72/130)   \rReceiving objects:  56% (73/130)   \rReceiving objects:  57% (75/130)   \rReceiving objects:  58% (76/130)   \rReceiving objects:  59% (77/130)   \rReceiving objects:  60% (78/130)   \rReceiving objects:  61% (80/130)   \rReceiving objects:  62% (81/130)   \rReceiving objects:  63% (82/130)   \rReceiving objects:  64% (84/130)   \rReceiving objects:  65% (85/130)   \rReceiving objects:  66% (86/130)   \rReceiving objects:  67% (88/130)   \rReceiving objects:  68% (89/130)   \rReceiving objects:  69% (90/130)   \rReceiving objects:  70% (91/130)   \rReceiving objects:  71% (93/130)   \rReceiving objects:  72% (94/130)   \rReceiving objects:  73% (95/130)   \rReceiving objects:  74% (97/130)   \rReceiving objects:  75% (98/130)   \rReceiving objects:  76% (99/130)   \rReceiving objects:  77% (101/130)   \rReceiving objects:  78% (102/130)   \rReceiving objects:  79% (103/130)   \rReceiving objects:  80% (104/130)   \rReceiving objects:  81% (106/130)   \rReceiving objects:  82% (107/130)   \rReceiving objects:  83% (108/130)   \rReceiving objects:  84% (110/130)   \rReceiving objects:  85% (111/130)   \rReceiving objects:  86% (112/130)   \rReceiving objects:  87% (114/130)   \rReceiving objects:  88% (115/130)   \rReceiving objects:  89% (116/130)   \rReceiving objects:  90% (117/130)   \rReceiving objects:  91% (119/130)   \rReceiving objects:  92% (120/130)   \rReceiving objects:  93% (121/130)   \rReceiving objects:  94% (123/130)   \rReceiving objects:  95% (124/130)   \rReceiving objects:  96% (125/130)   \rReceiving objects:  97% (127/130)   \rReceiving objects:  98% (128/130)   \rReceiving objects:  99% (129/130)   \rReceiving objects: 100% (130/130)   \rReceiving objects: 100% (130/130), 101.64 KiB | 1.61 MiB/s, done.\n",
            "Resolving deltas:   0% (0/45)   \rResolving deltas:   4% (2/45)   \rResolving deltas:  11% (5/45)   \rResolving deltas:  13% (6/45)   \rResolving deltas:  17% (8/45)   \rResolving deltas:  35% (16/45)   \rResolving deltas:  51% (23/45)   \rResolving deltas:  55% (25/45)   \rResolving deltas:  57% (26/45)   \rResolving deltas:  62% (28/45)   \rResolving deltas:  73% (33/45)   \rResolving deltas:  84% (38/45)   \rResolving deltas:  86% (39/45)   \rResolving deltas:  97% (44/45)   \rResolving deltas: 100% (45/45)   \rResolving deltas: 100% (45/45), done.\n"
          ],
          "name": "stdout"
        }
      ]
    },
    {
      "cell_type": "code",
      "metadata": {
        "id": "i-dRyy_FTN2F",
        "colab_type": "code",
        "outputId": "81b506d7-c624-4b6f-f267-a8b36e7e781a",
        "colab": {
          "base_uri": "https://localhost:8080/",
          "height": 109
        }
      },
      "source": [
        "%cd hunting_grounds\n",
        "!git fetch\n",
        "!git checkout master\n",
        "!git pull\n",
        "%cd .."
      ],
      "execution_count": 2,
      "outputs": [
        {
          "output_type": "stream",
          "text": [
            "/content/hunting_grounds\n",
            "Already on 'master'\n",
            "Your branch is up to date with 'origin/master'.\n",
            "Already up to date.\n",
            "/content\n"
          ],
          "name": "stdout"
        }
      ]
    },
    {
      "cell_type": "code",
      "metadata": {
        "id": "fh7p5hbMk2Yi",
        "colab_type": "code",
        "outputId": "723cdef0-a3e6-404c-d342-e1506708c361",
        "colab": {
          "base_uri": "https://localhost:8080/",
          "height": 719
        }
      },
      "source": [
        "!apt-get install tree\n",
        "!tree hunting_grounds"
      ],
      "execution_count": 3,
      "outputs": [
        {
          "output_type": "stream",
          "text": [
            "Reading package lists... Done\n",
            "Building dependency tree       \n",
            "Reading state information... Done\n",
            "tree is already the newest version (1.7.0-5).\n",
            "0 upgraded, 0 newly installed, 0 to remove and 8 not upgraded.\n",
            "hunting_grounds\n",
            "├── agent\n",
            "│   ├── cnn_agent.py\n",
            "│   ├── q_table.py\n",
            "│   └── trainer.py\n",
            "├── documentation\n",
            "│   └── pictures\n",
            "│       └── hunting_grounds.png\n",
            "├── environment\n",
            "│   ├── hunting_grounds.py\n",
            "│   ├── __init__.py\n",
            "│   └── utils\n",
            "│       ├── __init__.py\n",
            "│       └── visualizer.py\n",
            "├── __init__.py\n",
            "├── notebooks\n",
            "│   ├── trainer.ipynb\n",
            "│   └── world.py\n",
            "├── README.md\n",
            "├── results\n",
            "│   └── utils\n",
            "│       └── saver.py\n",
            "├── server\n",
            "│   ├── __init__.py\n",
            "│   ├── multiprocessor.py\n",
            "│   └── server.py\n",
            "├── trainer\n",
            "│   └── __init__.py\n",
            "├── trainer.py\n",
            "└── training\n",
            "    └── trainer.py\n",
            "\n",
            "11 directories, 19 files\n"
          ],
          "name": "stdout"
        }
      ]
    },
    {
      "cell_type": "code",
      "metadata": {
        "id": "0o1EBWCSNTbP",
        "colab_type": "code",
        "colab": {}
      },
      "source": [
        "from hunting_grounds.environment.hunting_grounds import HuntingGrounds as Environment\n",
        "from hunting_grounds.agent.cnn_agent import CnnAgent as Agent\n",
        "\n",
        "world_dimensions = (10, 10)\n",
        "\n",
        "environment = Environment(world_dimensions, headless=True)\n",
        "agent = Agent(world_dimensions, 5, 1000)"
      ],
      "execution_count": 0,
      "outputs": []
    },
    {
      "cell_type": "code",
      "metadata": {
        "id": "mTkBJlzmm6P6",
        "colab_type": "code",
        "colab": {}
      },
      "source": [
        "  def run_until_terminal(environment, agent, exploration_probability=0.,\n",
        "                         max_steps=100):\n",
        "\n",
        "      experiences = []\n",
        "\n",
        "      state = environment.get_state()\n",
        "\n",
        "      terminal = False\n",
        "\n",
        "      step = 1\n",
        "\n",
        "      while not terminal:\n",
        "\n",
        "          if exploration_probability > np.random.random():\n",
        "              action = np.random.randint(5)\n",
        "          else:\n",
        "              action = agent.predict(state)\n",
        "\n",
        "          reward, terminal = environment.step(action)\n",
        "\n",
        "          if step >= max_steps and not terminal:\n",
        "              terminal = True\n",
        "              reward = -1\n",
        "\n",
        "          next_state = environment.get_state()\n",
        "\n",
        "          experience = {\"s\": state, \"a\": action, \"r\": reward,\n",
        "                        \"s_\": next_state, \"t\": terminal}\n",
        "\n",
        "          experiences.append(experience)\n",
        "\n",
        "          state = next_state\n",
        "\n",
        "          step += 1\n",
        "\n",
        "      return experiences\n"
      ],
      "execution_count": 0,
      "outputs": []
    },
    {
      "cell_type": "code",
      "metadata": {
        "id": "qA-8kcE5nmIB",
        "colab_type": "code",
        "colab": {}
      },
      "source": [
        "from tqdm import trange\n",
        "import numpy as np"
      ],
      "execution_count": 0,
      "outputs": []
    },
    {
      "cell_type": "code",
      "metadata": {
        "id": "X6MGMaTeUSlm",
        "colab_type": "code",
        "outputId": "1b1a2339-5973-4704-aa9a-3214b0dc6abb",
        "colab": {
          "base_uri": "https://localhost:8080/",
          "height": 35
        }
      },
      "source": [
        "epochs = 100\n",
        "\n",
        "statistics = {\"steps\": [], \"reward\": []}\n",
        "\n",
        "for epoch in trange(epochs):\n",
        "\n",
        "    environment.reset()\n",
        "    \n",
        "    if epoch % 50 == 0:\n",
        "        experiences = run_until_terminal(environment, agent)\n",
        "\n",
        "        reward = sum([e[\"r\"] for e in experiences])\n",
        "        steps = len(experiences)\n",
        "\n",
        "        statistics[\"reward\"].append(reward)\n",
        "        statistics[\"steps\"].append(steps)\n",
        "        \n",
        "    experiences = run_until_terminal(environment, agent, 1 - (epoch / epochs))\n",
        "\n",
        "    agent.add_experience(experiences)\n",
        "    \n",
        "\n",
        "    agent.train()"
      ],
      "execution_count": 9,
      "outputs": [
        {
          "output_type": "stream",
          "text": [
            "100%|██████████| 100/100 [00:08<00:00,  6.52it/s]\n"
          ],
          "name": "stderr"
        }
      ]
    },
    {
      "cell_type": "code",
      "metadata": {
        "id": "WpSXR2Pns_A-",
        "colab_type": "code",
        "colab": {
          "base_uri": "https://localhost:8080/",
          "height": 539
        },
        "outputId": "4f16a9dd-63c7-4803-c91f-cb918872f387"
      },
      "source": [
        "import matplotlib.pyplot as plt\n",
        "\n",
        "plt.plot(statistics[\"steps\"])\n",
        "\n",
        "plt.figure()\n",
        "plt.plot(statistics[\"reward\"])"
      ],
      "execution_count": 10,
      "outputs": [
        {
          "output_type": "execute_result",
          "data": {
            "text/plain": [
              "[<matplotlib.lines.Line2D at 0x7f47a776b240>]"
            ]
          },
          "metadata": {
            "tags": []
          },
          "execution_count": 10
        },
        {
          "output_type": "display_data",
          "data": {
            "image/png": "[encoded data removed]",
            "text/plain": [
              "<Figure size 432x288 with 1 Axes>"
            ]
          },
          "metadata": {
            "tags": []
          }
        },
        {
          "output_type": "display_data",
          "data": {
            "image/png": "[encoded data removed]",
            "text/plain": [
              "<Figure size 432x288 with 1 Axes>"
            ]
          },
          "metadata": {
            "tags": []
          }
        }
      ]
    },
    {
      "cell_type": "code",
      "metadata": {
        "id": "4hWB7fLyuffQ",
        "colab_type": "code",
        "colab": {}
      },
      "source": [
        ""
      ],
      "execution_count": 0,
      "outputs": []
    }
  ]
}