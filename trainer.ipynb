{
  "nbformat": 4,
  "nbformat_minor": 0,
  "metadata": {
    "colab": {
      "name": "hg_trainer.ipynb",
      "version": "0.3.2",
      "provenance": [],
      "include_colab_link": true
    },
    "kernelspec": {
      "name": "python3",
      "display_name": "Python 3"
    }
  },
  "cells": [
    {
      "cell_type": "markdown",
      "metadata": {
        "id": "view-in-github",
        "colab_type": "text"
      },
      "source": [
        "<a href=\"https://colab.research.google.com/github/sloumotion/hunting_grounds/blob/2-move-training-code-into-notebook/trainer.ipynb\" target=\"_parent\"><img src=\"https://colab.research.google.com/assets/colab-badge.svg\" alt=\"Open In Colab\"/></a>"
      ]
    },
    {
      "cell_type": "code",
      "metadata": {
        "id": "6TtuxN94kwlj",
        "colab_type": "code",
        "outputId": "ab75d196-d103-40d1-fca3-d6997e32d4b6",
        "colab": {
          "base_uri": "https://localhost:8080/",
          "height": 35
        }
      },
      "source": [
        "!git clone -b 2-move-training-code-into-notebook https://github.com/sloumotion/hunting_grounds.git"
      ],
      "execution_count": 2,
      "outputs": [
        {
          "output_type": "stream",
          "text": [
            "fatal: destination path 'hunting_grounds' already exists and is not an empty directory.\n"
          ],
          "name": "stdout"
        }
      ]
    },
    {
      "cell_type": "code",
      "metadata": {
        "id": "i-dRyy_FTN2F",
        "colab_type": "code",
        "outputId": "0aabf3c6-79e0-41bd-a9a0-caf8e2a575d8",
        "colab": {
          "base_uri": "https://localhost:8080/",
          "height": 109
        }
      },
      "source": [
        "%cd hunting_grounds\n",
        "!git fetch\n",
        "!git checkout 2-move-training-code-into-notebook\n",
        "!git pull\n",
        "%cd .."
      ],
      "execution_count": 3,
      "outputs": [
        {
          "output_type": "stream",
          "text": [
            "/content/hunting_grounds\n",
            "Already on '2-move-training-code-into-notebook'\n",
            "Your branch is up to date with 'origin/2-move-training-code-into-notebook'.\n",
            "Already up to date.\n",
            "/content\n"
          ],
          "name": "stdout"
        }
      ]
    },
    {
      "cell_type": "code",
      "metadata": {
        "id": "fh7p5hbMk2Yi",
        "colab_type": "code",
        "outputId": "975c878a-f7e1-4aae-f86e-6460f39fee4d",
        "colab": {
          "base_uri": "https://localhost:8080/",
          "height": 997
        }
      },
      "source": [
        "!apt-get install tree\n",
        "!tree"
      ],
      "execution_count": 4,
      "outputs": [
        {
          "output_type": "stream",
          "text": [
            "Reading package lists... Done\n",
            "Building dependency tree       \n",
            "Reading state information... Done\n",
            "tree is already the newest version (1.7.0-5).\n",
            "0 upgraded, 0 newly installed, 0 to remove and 14 not upgraded.\n",
            ".\n",
            "├── hunting_grounds\n",
            "│   ├── agent\n",
            "│   │   ├── cnn_agent.py\n",
            "│   │   ├── __pycache__\n",
            "│   │   │   └── cnn_agent.cpython-36.pyc\n",
            "│   │   ├── q_table.py\n",
            "│   │   └── trainer.py\n",
            "│   ├── environment\n",
            "│   │   ├── hunting_grounds.py\n",
            "│   │   ├── __init__.py\n",
            "│   │   ├── __pycache__\n",
            "│   │   │   ├── hunting_grounds.cpython-36.pyc\n",
            "│   │   │   └── __init__.cpython-36.pyc\n",
            "│   │   └── utils\n",
            "│   │       ├── __init__.py\n",
            "│   │       ├── __pycache__\n",
            "│   │       │   ├── __init__.cpython-36.pyc\n",
            "│   │       │   └── visualizer.cpython-36.pyc\n",
            "│   │       └── visualizer.py\n",
            "│   ├── hunting_grounds\n",
            "│   │   ├── agent\n",
            "│   │   │   ├── cnn_agent.py\n",
            "│   │   │   ├── q_table.py\n",
            "│   │   │   └── trainer.py\n",
            "│   │   ├── environment\n",
            "│   │   │   ├── hunting_grounds.py\n",
            "│   │   │   ├── __init__.py\n",
            "│   │   │   └── utils\n",
            "│   │   │       ├── __init__.py\n",
            "│   │   │       └── visualizer.py\n",
            "│   │   ├── __init__.py\n",
            "│   │   ├── main.py\n",
            "│   │   └── README.md\n",
            "│   ├── __init__.py\n",
            "│   ├── main.py\n",
            "│   ├── __pycache__\n",
            "│   │   └── __init__.cpython-36.pyc\n",
            "│   └── README.md\n",
            "└── sample_data\n",
            "    ├── anscombe.json\n",
            "    ├── california_housing_test.csv\n",
            "    ├── california_housing_train.csv\n",
            "    ├── mnist_test.csv\n",
            "    ├── mnist_train_small.csv\n",
            "    └── README.md\n",
            "\n",
            "13 directories, 32 files\n"
          ],
          "name": "stdout"
        }
      ]
    },
    {
      "cell_type": "code",
      "metadata": {
        "id": "0o1EBWCSNTbP",
        "colab_type": "code",
        "colab": {}
      },
      "source": [
        "from hunting_grounds.environment.hunting_grounds import HuntingGrounds as Environment\n",
        "from hunting_grounds.agent.cnn_agent import CnnAgent as Agent\n",
        "\n",
        "world_dimensions = (10, 10)\n",
        "\n",
        "environment = Environment(world_dimensions, headless=True)\n",
        "agent = Agent(world_dimensions, 5)"
      ],
      "execution_count": 0,
      "outputs": []
    },
    {
      "cell_type": "code",
      "metadata": {
        "id": "mTkBJlzmm6P6",
        "colab_type": "code",
        "colab": {}
      },
      "source": [
        "def run_until_terminal(agent, environment, exploration_probability=0., max_steps=100):\n",
        "    experiences = []\n",
        "\n",
        "    state = environment.get_state()\n",
        "\n",
        "    terminal = False\n",
        "\n",
        "    step = 1\n",
        "\n",
        "    while not terminal:\n",
        "\n",
        "        if exploration_probability > np.random.random():\n",
        "            action = np.random.randint(5)\n",
        "        else:\n",
        "            action = agent.predict(state)\n",
        "\n",
        "        reward, terminal = environment.step(action)\n",
        "\n",
        "        if step >= max_steps and not terminal:\n",
        "            terminal = True\n",
        "            reward = -1\n",
        "\n",
        "        next_state = environment.get_state()\n",
        "\n",
        "        experience = [state, action, reward, next_state, terminal]\n",
        "\n",
        "        experiences.append(experience)\n",
        "\n",
        "        state = next_state\n",
        "        \n",
        "        step += 1\n",
        "\n",
        "    return experiences\n"
      ],
      "execution_count": 0,
      "outputs": []
    },
    {
      "cell_type": "code",
      "metadata": {
        "id": "qA-8kcE5nmIB",
        "colab_type": "code",
        "colab": {}
      },
      "source": [
        "from tqdm import trange\n",
        "import numpy as np"
      ],
      "execution_count": 0,
      "outputs": []
    },
    {
      "cell_type": "code",
      "metadata": {
        "id": "X6MGMaTeUSlm",
        "colab_type": "code",
        "outputId": "b2d98aff-d416-4cdf-ee6b-3bf8fe77df28",
        "colab": {
          "base_uri": "https://localhost:8080/",
          "height": 35
        }
      },
      "source": [
        "epochs = 10_000\n",
        "\n",
        "statistics = {\"steps\": [], \"reward\": []}\n",
        "\n",
        "for epoch in trange(epochs):\n",
        "\n",
        "    environment.reset()\n",
        "    \n",
        "    if epoch % 50 == 0:\n",
        "        experiences = run_until_terminal(agent, environment)\n",
        "\n",
        "        reward = sum([e[2] for e in experiences])\n",
        "        steps = len(experiences)\n",
        "\n",
        "        statistics[\"reward\"].append(reward)\n",
        "        statistics[\"steps\"].append(steps)\n",
        "        \n",
        "    experiences = run_until_terminal(agent, environment, 1 - (epoch / epochs))\n",
        "\n",
        "    for experience in experiences:\n",
        "        agent.add_experience(*experience)\n",
        "\n",
        "    agent.train()"
      ],
      "execution_count": 6,
      "outputs": [
        {
          "output_type": "stream",
          "text": [
            "100%|██████████| 10000/10000 [32:39<00:00,  2.68it/s]\n"
          ],
          "name": "stderr"
        }
      ]
    },
    {
      "cell_type": "code",
      "metadata": {
        "id": "WpSXR2Pns_A-",
        "colab_type": "code",
        "colab": {
          "base_uri": "https://localhost:8080/",
          "height": 539
        },
        "outputId": "21ebdac3-c50a-470e-a977-3c504042ca81"
      },
      "source": [
        "import matplotlib.pyplot as plt\n",
        "\n",
        "plt.plot(statistics[\"steps\"])\n",
        "\n",
        "plt.figure()\n",
        "plt.plot(statistics[\"reward\"])"
      ],
      "execution_count": 7,
      "outputs": [
        {
          "output_type": "execute_result",
          "data": {
            "text/plain": [
              "[<matplotlib.lines.Line2D at 0x7ff75c127438>]"
            ]
          },
          "metadata": {
            "tags": []
          },
          "execution_count": 7
        },
        {
          "output_type": "display_data",
          "data": {
            "image/png": "[encoded data removed]",
            "text/plain": [
              "<Figure size 432x288 with 1 Axes>"
            ]
          },
          "metadata": {
            "tags": []
          }
        },
        {
          "output_type": "display_data",
          "data": {
            "image/png": "[encoded data removed]",
            "text/plain": [
              "<Figure size 432x288 with 1 Axes>"
            ]
          },
          "metadata": {
            "tags": []
          }
        }
      ]
    },
    {
      "cell_type": "code",
      "metadata": {
        "id": "4hWB7fLyuffQ",
        "colab_type": "code",
        "colab": {}
      },
      "source": [
        ""
      ],
      "execution_count": 0,
      "outputs": []
    }
  ]
}